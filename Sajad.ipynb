{
 "cells": [
  {
   "cell_type": "code",
   "execution_count": 1,
   "metadata": {},
   "outputs": [],
   "source": [
    "from Functions import *"
   ]
  },
  {
   "cell_type": "code",
   "execution_count": 6,
   "metadata": {},
   "outputs": [],
   "source": [
    "#9 Spatial Plant Pollinator networks---------------------------------------------------\n",
    "\n",
    "my_path=\"./data/Projects/SPATIAL/\"\n",
    "\n",
    "network_names={\n",
    "\"Bnet1\": \"Favaritx\", \"Bnet2\":\"Platja Es Grau\",\"Bnet3\":\"Sa Bassa\",\n",
    "\"Bnet4\":\"costa Son Bou\", \"Bnet5\":\"Llucalari\", \"Bnet6\":\"Sant Jaume de Dalt\", \n",
    "\"Bnet7\":\"Cala Tirant\",\"Bnet8\":\"Salinas\", \"Bnet9\":\"Torre Fornells\"\n",
    "}\n",
    "webs=[\"1\",\"2\",\"3\",\"4\",\"5\",\"6\",\"7\",\"8\",\"9\"]\n",
    "web=webs[0] #from 1 to 9\n",
    "#we load the networks one by one\n",
    "\n",
    "filename=my_path+\"Bnet_\"+web+\".csv\"\n",
    "\n",
    "Idf=pd.read_csv(filename, index_col=None,header=0) #this is the dataframe of interactions\n",
    "\n",
    "#now we create the bipartite network:\n",
    "B = nx.Graph() # this will be the graph\n",
    "\n",
    "# Add plant nodes and animal nodes\n",
    "plant_nodes = Idf[\"Plant_sp\"].unique()\n",
    "B.add_nodes_from(plant_nodes, bipartite=\"plant\")\n",
    "#for animals include family, so we do one by one\n",
    "animal_nodes = Idf[[\"Visitor_sp\", \"Family\"]].drop_duplicates()\n",
    "for _, row in animal_nodes.iterrows():\n",
    "    B.add_node(row[\"Visitor_sp\"],\n",
    "               bipartite=\"animal\",\n",
    "               Family=row[\"Family\"])\n",
    "\n",
    "# 3. Add edges with weight from FVR\n",
    "edges = list(Idf[[\"Plant_sp\", \"Visitor_sp\", \"FVR\"]].itertuples(index=False, name=None))\n",
    "B.add_weighted_edges_from(edges, weight=\"FVR\")\n",
    "#-----------------------------------------------------------------------------------"
   ]
  },
  {
   "cell_type": "code",
   "execution_count": null,
   "metadata": {},
   "outputs": [],
   "source": []
  }
 ],
 "metadata": {
  "kernelspec": {
   "display_name": "pgis",
   "language": "python",
   "name": "python3"
  },
  "language_info": {
   "codemirror_mode": {
    "name": "ipython",
    "version": 3
   },
   "file_extension": ".py",
   "mimetype": "text/x-python",
   "name": "python",
   "nbconvert_exporter": "python",
   "pygments_lexer": "ipython3",
   "version": "3.12.0"
  }
 },
 "nbformat": 4,
 "nbformat_minor": 2
}

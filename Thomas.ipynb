{
 "cells": [
  {
   "cell_type": "code",
   "execution_count": 1,
   "metadata": {},
   "outputs": [],
   "source": [
    "from Functions import *"
   ]
  },
  {
   "cell_type": "code",
   "execution_count": 8,
   "metadata": {},
   "outputs": [],
   "source": [
    "#6 Foodwebs --------------------------------------------------------------------------------------\n",
    "# the 17 available quantitative foodwebs in the web of live database\n",
    "my_path=\"./data/Projects/FOODWEBS/\"\n",
    " \n",
    "#read information of the available networks\n",
    "references_df=pd.read_csv(my_path+\"references.csv\")\n",
    "\n",
    "webs=[\"001\", \"002\",\"003\",\"004\",\"005\",\"006\",\"007\",\"008\",\"009\",\"010\", \"016_01\", \"017_01\", \"017_02\", \"017_03\",\"017_04\",\"017_05\",\"017_06\"]\n",
    "\n",
    "web=webs[0]#for now I only choose the first one\n",
    "\n",
    "#To create the dataframe of interactions:\n",
    "my_df = pd.read_csv(my_path+\"FW_\"+web+\".csv\", index_col=0)\n",
    "# prey = index, predator = columns, values = weight\n",
    "interactions = my_df.stack().reset_index()\n",
    "interactions.columns = [\"source\", \"target\", \"Weight\"] #by default from pandas edgelist will search for columns called \"source\" and \"target\"\n",
    "# keep only nonzero interactions\n",
    "interactions = interactions[interactions[\"Weight\"] > 0].reset_index(drop=True)\n",
    "\n",
    "G=nx.from_pandas_edgelist(interactions, edge_attr=\"Weight\", create_using=nx.DiGraph) #This is the directed graph"
   ]
  },
  {
   "cell_type": "code",
   "execution_count": null,
   "metadata": {},
   "outputs": [],
   "source": []
  }
 ],
 "metadata": {
  "kernelspec": {
   "display_name": "pgis",
   "language": "python",
   "name": "python3"
  },
  "language_info": {
   "codemirror_mode": {
    "name": "ipython",
    "version": 3
   },
   "file_extension": ".py",
   "mimetype": "text/x-python",
   "name": "python",
   "nbconvert_exporter": "python",
   "pygments_lexer": "ipython3",
   "version": "3.12.0"
  }
 },
 "nbformat": 4,
 "nbformat_minor": 2
}

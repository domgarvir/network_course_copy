{
 "cells": [
  {
   "cell_type": "code",
   "execution_count": 1,
   "metadata": {},
   "outputs": [],
   "source": [
    "from Functions import *"
   ]
  },
  {
   "cell_type": "code",
   "execution_count": 2,
   "metadata": {},
   "outputs": [],
   "source": [
    "#3 - Lord of the rings Dataframe of itneractions and network----------------------\n",
    "my_path=\"./data/Projects/LOTR/\"\n",
    "book=\"1\" #1,2,3,all\n",
    "filename=my_path+\"network-book\"+book+\".csv\"\n",
    "\n",
    "# Load edges and information about the node\n",
    "info = pd.read_csv(my_path+\"pre-ontology.csv\", sep=\"\\t\")  # assuming it's tab-separated\n",
    "\n",
    "# Keep only useful columns for nodes\n",
    "nodes = info[['id','normalizedName','type','freq']].drop_duplicates()\n",
    "id_to_name = dict(zip(nodes['id'], nodes['normalizedName']))\n",
    "\n",
    "edges = pd.read_csv(filename)         # IdSource,IdTarget,Weight,Type: Dataframe of interactions\n",
    "# Map Ids to canonical names\n",
    "edges['SourceName'] = edges['IdSource'].map(id_to_name)\n",
    "edges['TargetName'] = edges['IdTarget'].map(id_to_name)\n",
    "\n",
    "G = nx.Graph() # this will be the graph\n",
    "\n",
    "# Add nodes with attributes\n",
    "for _, row in nodes.iterrows():\n",
    "    G.add_node(row['id'],\n",
    "               label=row['normalizedName'],\n",
    "               type=row['type'],\n",
    "               freq=row['freq'])\n",
    "\n",
    "# Add edges with attributes\n",
    "for _, row in edges.iterrows():\n",
    "    G.add_edge(row['IdSource'], row['IdTarget'],\n",
    "               weight=row['Weight'],\n",
    "               edge_type=row['Type'])"
   ]
  }
 ],
 "metadata": {
  "kernelspec": {
   "display_name": "pgis",
   "language": "python",
   "name": "python3"
  },
  "language_info": {
   "codemirror_mode": {
    "name": "ipython",
    "version": 3
   },
   "file_extension": ".py",
   "mimetype": "text/x-python",
   "name": "python",
   "nbconvert_exporter": "python",
   "pygments_lexer": "ipython3",
   "version": "3.12.0"
  }
 },
 "nbformat": 4,
 "nbformat_minor": 2
}
